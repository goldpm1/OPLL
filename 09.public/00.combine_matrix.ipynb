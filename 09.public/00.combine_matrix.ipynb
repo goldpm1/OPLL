{
 "cells": [
  {
   "attachments": {},
   "cell_type": "markdown",
   "metadata": {},
   "source": [
    "## Matrix 합치기\n",
    "- LF 4개 + BM-MSC 3개 + NP 4개 + Fibula 4개\n",
    "- 우리의 OLF 4개, *LF* 2개, *Normal* 4개도 합쳐보자"
   ]
  },
  {
   "cell_type": "code",
   "execution_count": 88,
   "metadata": {},
   "outputs": [],
   "source": [
    "from Bio import SeqIO\n",
    "from biomart import BiomartServer\n",
    "import pandas as pd\n",
    "import numpy as np\n",
    "import os\n",
    "import palettable\n",
    "from reComBat import reComBat\n",
    "batch_No = 0\n",
    "batch_list = []\n",
    "# batch_list = [0, 0, 0, 0, 1, 1, 1, 2, 2, 2, 2, 3, 3, 3, 3, 4, 4, 4, 4, 5, 5, 6, 6, 6, 6]\n",
    "tabl = palettable.tableau.Tableau_20.mpl_colors"
   ]
  },
  {
   "attachments": {},
   "cell_type": "markdown",
   "metadata": {},
   "source": [
    "### GSE188760 (O2, C2)는 형식이 좀 특이해서 parsing 하기"
   ]
  },
  {
   "cell_type": "code",
   "execution_count": 89,
   "metadata": {},
   "outputs": [
    {
     "name": "stdout",
     "output_type": "stream",
     "text": [
      "GSM5689354_O1.genes.results\t(60651, 7)\n",
      "GSM5689355_O2.genes.results\t(60651, 7)\n",
      "GSM5689356_C1.genes.results\t(60651, 7)\n",
      "GSM5689357_C2.genes.results\t(60651, 7)\n"
     ]
    },
    {
     "data": {
      "text/plain": [
       "(60651, 6)"
      ]
     },
     "execution_count": 89,
     "metadata": {},
     "output_type": "execute_result"
    }
   ],
   "source": [
    "DIR = \"/data/project/OPLL/0.rnaraw/99.public/GSE188760/03.matrix\"\n",
    "OUTPUT_TSV = DIR + \"/GSE188760.FPKM.tsv\"\n",
    "cnt = 0\n",
    "\n",
    "# Display the filenames\n",
    "for filename in sorted(os.listdir(DIR))  :\n",
    "    if os.path.isfile (os.path.join ( DIR, filename)) == False:\n",
    "        continue\n",
    "    if \"results\" in filename:\n",
    "\n",
    "        INPUT_TSV = DIR + \"/\" + filename\n",
    "        SAMPLE_ID = filename.split(\"_\")[1].split(\".\")[0]\n",
    "\n",
    "        df = pd.read_csv (INPUT_TSV, sep = \"\\t\")\n",
    "        print (\"{}\\t{}\".format (filename, df.shape))\n",
    "        df[['Column1', 'GENE_SYMBOL']] = df['gene_id'].str.split('_', 1, expand = True)\n",
    "        df[['ENSEMBL_ID', 'Column2']] = df['Column1'].str.split('.', 1, expand = True)\n",
    "        #df = df.drop (['gene_id', 'transcript_id(s)', 'length', 'effective_length', 'Column1', 'Column2'], axis = 1)\n",
    "        df = df.loc [:, [\"ENSEMBL_ID\", \"GENE_SYMBOL\", \"expected_count\"] ]\n",
    "        df.rename(columns = {\"expected_count\" : SAMPLE_ID }, inplace = True)\n",
    "\n",
    "        if cnt == 0:\n",
    "            df_concat = df\n",
    "        else:\n",
    "            df_concat = pd.merge (df_concat, df, how = 'outer')\n",
    "        \n",
    "        cnt = cnt + 1\n",
    "        batch_list.append (batch_No)\n",
    "\n",
    "batch_No = batch_No + 1\n",
    "df_concat = df_concat.drop_duplicates()          # 왜인진 모르겠으나 duplicated row가 생김\n",
    "df_concat.to_csv ( OUTPUT_TSV, sep = \"\\t\", index = False)\n",
    "df_concat.shape"
   ]
  },
  {
   "attachments": {},
   "cell_type": "markdown",
   "metadata": {},
   "source": [
    "### GSE197172 (BM-MSC)는 n*3인데 3개 matrix를 합쳐주기"
   ]
  },
  {
   "cell_type": "code",
   "execution_count": 90,
   "metadata": {},
   "outputs": [
    {
     "name": "stdout",
     "output_type": "stream",
     "text": [
      "GSM5910541_Lin2-1.STAR.ReadsPerGene.out.tab\t(26478, 4)\n",
      "GSM5910542_Lin2-2.STAR.ReadsPerGene.out.tab\t(26478, 4)\n",
      "GSM5910543_Lin2-3.STAR.ReadsPerGene.out.tab\t(26478, 4)\n"
     ]
    }
   ],
   "source": [
    "DIR = \"/data/project/OPLL/0.rnaraw/99.public/GSE197172/03.matrix\"\n",
    "cnt_BMMSC = 0\n",
    "\n",
    "# Display the filenames\n",
    "for filename in sorted(os.listdir(DIR))  :\n",
    "    if os.path.isfile (os.path.join ( DIR, filename)) == False:\n",
    "        continue\n",
    "    if \"tab\" in filename:\n",
    "        INPUT_TSV = DIR + \"/\" + filename\n",
    "        SAMPLE_ID = filename.split(\".\")[0].split(\"_\")[1]\n",
    "\n",
    "        df = pd.read_csv (INPUT_TSV, sep = \"\\t\")\n",
    "        print (\"{}\\t{}\".format (filename, df.shape ) )\n",
    "        df = df.iloc [:, [0, 1]] \n",
    "        df.columns = [\"GENE_SYMBOL\", SAMPLE_ID]\n",
    "        \n",
    "        if cnt_BMMSC == 0:\n",
    "            df_concat_BMMSC = df\n",
    "        else:\n",
    "            df_concat_BMMSC= pd.merge (df_concat_BMMSC, df, how = 'outer')\n",
    "        \n",
    "        cnt_BMMSC = cnt_BMMSC + 1\n",
    "        batch_list.append (batch_No)\n",
    "\n",
    "batch_No = batch_No + 1\n",
    "df_concat_BMMSC = df_concat_BMMSC.iloc [3:].reset_index(drop = True)\n",
    "\n",
    "df_concat = pd.merge (df_concat, df_concat_BMMSC ,   left_on = \"GENE_SYMBOL\", right_on = \"GENE_SYMBOL\", how = \"left\").fillna (0)"
   ]
  },
  {
   "attachments": {},
   "cell_type": "markdown",
   "metadata": {},
   "source": [
    "### GSE186542 (NP), GSE220630 (Fibula)는 4개씩 얻기"
   ]
  },
  {
   "cell_type": "code",
   "execution_count": 91,
   "metadata": {},
   "outputs": [
    {
     "name": "stdout",
     "output_type": "stream",
     "text": [
      "GSE186542_gene_expression.txt\t(58302, 10)\n",
      "GSE220630_norm_counts.tsv\t(60666, 31)\n"
     ]
    }
   ],
   "source": [
    "DIR = \"/data/project/OPLL/0.rnaraw/99.public\"\n",
    "DIR_list = [DIR + \"/GSE186542/03.matrix/GSE186542_gene_expression.txt\",  \n",
    "                    DIR + \"/GSE220630/03.matrix/GSE220630_norm_counts.tsv\" ]\n",
    "\n",
    "for INPUT_TSV in DIR_list:\n",
    "    df = pd.read_csv (INPUT_TSV, sep = \"\\t\")\n",
    "    print (\"{}\\t{}\".format ( INPUT_TSV.split(\"/\")[-1], df.shape))\n",
    "    df_concat = pd.merge (df_concat, df.iloc[ : , [0, -1, -2, -3, -4]] ,   left_on = \"ENSEMBL_ID\", right_on = \"ENSEMBL_ID\", how = \"left\")\n",
    "    batch_list = batch_list + [batch_No] * 4\n",
    "    batch_No = batch_No + 1\n",
    "\n",
    "df_concat = df_concat.fillna(0)   # Missing value -> 0"
   ]
  },
  {
   "attachments": {},
   "cell_type": "markdown",
   "metadata": {},
   "source": [
    "### OLF 4개, LF 3개, NORMAL 4개 얻어보기 (raw count)"
   ]
  },
  {
   "cell_type": "code",
   "execution_count": 92,
   "metadata": {},
   "outputs": [],
   "source": [
    "# DIR = \"/data/project/OPLL/0.rnaraw/04.matrix\"\n",
    "# OLF_DIR_list = [DIR + \"/230119/230119-OLF.tsv\", DIR + \"/230126/230126-OLF.tsv\", DIR + \"/230207/230207-OLF.tsv\", DIR + \"/230222/230222-OLF.tsv\" ]\n",
    "# LF_DIR_list = [DIR + \"/230207/230207-LF.tsv\", DIR + \"/230222/230222-LF.tsv\" ]\n",
    "# NORMAL_DIR_list = [DIR + \"/230119/230119-NORMAL.tsv\", DIR + \"/230126/230126-NORMAL.tsv\", DIR + \"/230207/230207-NORMAL.tsv\", DIR + \"/230222/230222-NORMAL.tsv\" ]\n",
    "# cnt_MY = 0\n",
    "\n",
    "# for INPUT_TSV in OLF_DIR_list + LF_DIR_list + NORMAL_DIR_list:\n",
    "#     df = pd.read_csv (INPUT_TSV, sep = \"\\t\")\n",
    "#     SAMPLE_ID = INPUT_TSV.split(\"/\")[-1].split(\".\")[0]\n",
    "#     df.columns = [\"GENE_SYMBOL\", SAMPLE_ID]\n",
    "#     print (\"{}\\t{}\".format ( INPUT_TSV.split(\"/\")[-1], df.shape))\n",
    "\n",
    "#     if cnt_MY == 0:\n",
    "#         df_concat_MY = df\n",
    "#     else:\n",
    "#         if SAMPLE_ID.split(\"-\")[1].split(\".\")[0] != df_concat_MY.columns[-1].split(\"-\")[1] :\n",
    "#             batch_No = batch_No + 1\n",
    "#         df_concat_MY= pd.merge (df_concat_MY, df, how = 'outer')\n",
    "#     cnt_MY = cnt_MY + 1\n",
    "\n",
    "#     batch_list.append (batch_No)\n",
    "\n",
    "# df_concat_MY = df_concat_MY.iloc [:-5, ]\n",
    "# #df_concat_MY\n",
    "\n",
    "# df_concat = pd.merge (df_concat, df_concat_MY ,   left_on = \"GENE_SYMBOL\", right_on = \"GENE_SYMBOL\", how = \"left\").fillna (0)\n",
    "# df_concat"
   ]
  },
  {
   "attachments": {},
   "cell_type": "markdown",
   "metadata": {},
   "source": [
    "## 내 data 모으기"
   ]
  },
  {
   "cell_type": "code",
   "execution_count": 93,
   "metadata": {},
   "outputs": [
    {
     "name": "stdout",
     "output_type": "stream",
     "text": [
      "[5, 6, 5, 6, 5, 6, 5, 6, 5, 6, 5, 6, 5, 6, 5, 6, 5, 6, 7, 9, 5, 6, 7, 9, 5, 6, 7, 8, 5, 6]\n"
     ]
    }
   ],
   "source": [
    "print (list ( coldata + np.max(batch_list) + 1))"
   ]
  },
  {
   "cell_type": "code",
   "execution_count": 94,
   "metadata": {},
   "outputs": [
    {
     "name": "stdout",
     "output_type": "stream",
     "text": [
      "(60651, 47) 45\n"
     ]
    }
   ],
   "source": [
    "df = pd.read_csv ( \"/data/project/OPLL/0.rnaraw/Analysis/~230316/00.PCA&Demographics/df/df_coladd.txt\",  sep = \"\\t\")\n",
    "#coldata = pd.read_csv ( \"/data/project/OPLL/0.rnaraw/Analysis/~230316/00.PCA&Demographics/coldata/group.txt\",  sep = \"\\t\", header = None)\n",
    "coldata = [ int(line.rstrip('\\n')) for line in open(\"/data/project/OPLL/0.rnaraw/Analysis/~230316/00.PCA&Demographics/coldata/group.txt\", 'r')]\n",
    "batch_list = batch_list +  list ( coldata + np.max(batch_list) )\n",
    "\n",
    "\n",
    "df_concat = pd.merge (df_concat, df ,   left_on = \"GENE_SYMBOL\", right_on = \"GENE_SYMBOL\", how = \"left\").fillna (0)\n",
    "print (df_concat.shape, len(batch_list))"
   ]
  },
  {
   "attachments": {},
   "cell_type": "markdown",
   "metadata": {},
   "source": [
    "### Batch 정리 및 Low count row 제거"
   ]
  },
  {
   "cell_type": "code",
   "execution_count": 97,
   "metadata": {},
   "outputs": [
    {
     "name": "stdout",
     "output_type": "stream",
     "text": [
      "45개 sample\t 9개 batch\n",
      "[0, 0, 0, 0, 1, 1, 1, 2, 2, 2, 2, 3, 3, 3, 3, 4, 5, 4, 5, 4, 5, 4, 5, 4, 5, 4, 5, 4, 5, 4, 5, 4, 5, 6, 8, 4, 5, 6, 8, 4, 5, 6, 7, 4, 5]\n"
     ]
    }
   ],
   "source": [
    "batch_df = pd.DataFrame (batch_list)\n",
    "batch_series= pd.Series (batch_list)\n",
    "START_COLUMN = 2 \n",
    "print (\"{}개 sample\\t {}개 batch\\n{}\".format (len(batch_list), len( np.unique(batch_list) ) , batch_list ) )\n",
    "\n",
    "# Low count row는 제거해주기\n",
    "row_averages = df_concat.iloc[:, START_COLUMN:].mean(axis=1)\n",
    "df_concat = df_concat [row_averages >= 5].reset_index ( drop = True)"
   ]
  },
  {
   "attachments": {},
   "cell_type": "markdown",
   "metadata": {},
   "source": [
    "## Batch effect removal (reComBat)"
   ]
  },
  {
   "cell_type": "code",
   "execution_count": 99,
   "metadata": {},
   "outputs": [
    {
     "name": "stderr",
     "output_type": "stream",
     "text": [
      "[reComBat] 2023-05-19 14:59:11,030 Starting to fot reComBat.\n"
     ]
    },
    {
     "ename": "ValueError",
     "evalue": "There should be at least two values for each batch.",
     "output_type": "error",
     "traceback": [
      "\u001b[0;31m---------------------------------------------------------------------------\u001b[0m",
      "\u001b[0;31mValueError\u001b[0m                                Traceback (most recent call last)",
      "\u001b[0;32m<ipython-input-99-d1196b47a5d1>\u001b[0m in \u001b[0;36m<module>\u001b[0;34m\u001b[0m\n\u001b[1;32m      1\u001b[0m \u001b[0mcombat\u001b[0m \u001b[0;34m=\u001b[0m \u001b[0mreComBat\u001b[0m\u001b[0;34m(\u001b[0m\u001b[0;34m)\u001b[0m\u001b[0;34m\u001b[0m\u001b[0;34m\u001b[0m\u001b[0m\n\u001b[0;32m----> 2\u001b[0;31m \u001b[0mdf_concat_batchremoved\u001b[0m \u001b[0;34m=\u001b[0m \u001b[0mcombat\u001b[0m\u001b[0;34m.\u001b[0m\u001b[0mfit_transform\u001b[0m\u001b[0;34m(\u001b[0m\u001b[0mdf_concat\u001b[0m\u001b[0;34m.\u001b[0m\u001b[0miloc\u001b[0m\u001b[0;34m[\u001b[0m \u001b[0;34m:\u001b[0m\u001b[0;34m,\u001b[0m \u001b[0mSTART_COLUMN\u001b[0m\u001b[0;34m:\u001b[0m\u001b[0;34m]\u001b[0m\u001b[0;34m.\u001b[0m\u001b[0mT\u001b[0m\u001b[0;34m,\u001b[0m \u001b[0mbatch_series\u001b[0m\u001b[0;34m)\u001b[0m\u001b[0;34m\u001b[0m\u001b[0;34m\u001b[0m\u001b[0m\n\u001b[0m",
      "\u001b[0;32m/opt/Yonsei/python/3.8.1/lib/python3.8/site-packages/reComBat/reComBat.py\u001b[0m in \u001b[0;36mfit_transform\u001b[0;34m(self, data, batches, X, C)\u001b[0m\n\u001b[1;32m    242\u001b[0m         '''\n\u001b[1;32m    243\u001b[0m \u001b[0;34m\u001b[0m\u001b[0m\n\u001b[0;32m--> 244\u001b[0;31m         \u001b[0mself\u001b[0m\u001b[0;34m.\u001b[0m\u001b[0mfit\u001b[0m\u001b[0;34m(\u001b[0m\u001b[0mdata\u001b[0m\u001b[0;34m,\u001b[0m\u001b[0mbatches\u001b[0m\u001b[0;34m,\u001b[0m\u001b[0mX\u001b[0m\u001b[0;34m=\u001b[0m\u001b[0mX\u001b[0m \u001b[0;32mif\u001b[0m \u001b[0mX\u001b[0m \u001b[0;32mis\u001b[0m \u001b[0;32mnot\u001b[0m \u001b[0;32mNone\u001b[0m \u001b[0;32melse\u001b[0m \u001b[0;32mNone\u001b[0m\u001b[0;34m,\u001b[0m \u001b[0mC\u001b[0m\u001b[0;34m=\u001b[0m\u001b[0mC\u001b[0m \u001b[0;32mif\u001b[0m \u001b[0mC\u001b[0m \u001b[0;32mis\u001b[0m \u001b[0;32mnot\u001b[0m \u001b[0;32mNone\u001b[0m \u001b[0;32melse\u001b[0m \u001b[0;32mNone\u001b[0m\u001b[0;34m)\u001b[0m\u001b[0;34m\u001b[0m\u001b[0;34m\u001b[0m\u001b[0m\n\u001b[0m\u001b[1;32m    245\u001b[0m         \u001b[0;32mreturn\u001b[0m \u001b[0mself\u001b[0m\u001b[0;34m.\u001b[0m\u001b[0mtransform\u001b[0m\u001b[0;34m(\u001b[0m\u001b[0mdata\u001b[0m\u001b[0;34m,\u001b[0m\u001b[0mbatches\u001b[0m\u001b[0;34m,\u001b[0m\u001b[0mX\u001b[0m\u001b[0;34m=\u001b[0m\u001b[0mX\u001b[0m \u001b[0;32mif\u001b[0m \u001b[0mX\u001b[0m \u001b[0;32mis\u001b[0m \u001b[0;32mnot\u001b[0m \u001b[0;32mNone\u001b[0m \u001b[0;32melse\u001b[0m \u001b[0;32mNone\u001b[0m\u001b[0;34m,\u001b[0m \u001b[0mC\u001b[0m\u001b[0;34m=\u001b[0m\u001b[0mC\u001b[0m \u001b[0;32mif\u001b[0m \u001b[0mC\u001b[0m \u001b[0;32mis\u001b[0m \u001b[0;32mnot\u001b[0m \u001b[0;32mNone\u001b[0m \u001b[0;32melse\u001b[0m \u001b[0;32mNone\u001b[0m\u001b[0;34m)\u001b[0m\u001b[0;34m\u001b[0m\u001b[0;34m\u001b[0m\u001b[0m\n\u001b[1;32m    246\u001b[0m \u001b[0;34m\u001b[0m\u001b[0m\n",
      "\u001b[0;32m/opt/Yonsei/python/3.8.1/lib/python3.8/site-packages/reComBat/reComBat.py\u001b[0m in \u001b[0;36mfit\u001b[0;34m(self, data, batches, X, C)\u001b[0m\n\u001b[1;32m    130\u001b[0m \u001b[0;34m\u001b[0m\u001b[0m\n\u001b[1;32m    131\u001b[0m         \u001b[0;32mif\u001b[0m \u001b[0mnp\u001b[0m\u001b[0;34m.\u001b[0m\u001b[0many\u001b[0m\u001b[0;34m(\u001b[0m\u001b[0mbatches_one_hot\u001b[0m\u001b[0;34m.\u001b[0m\u001b[0msum\u001b[0m\u001b[0;34m(\u001b[0m\u001b[0maxis\u001b[0m\u001b[0;34m=\u001b[0m\u001b[0;36m0\u001b[0m\u001b[0;34m)\u001b[0m \u001b[0;34m==\u001b[0m \u001b[0;36m1\u001b[0m\u001b[0;34m)\u001b[0m\u001b[0;34m:\u001b[0m\u001b[0;34m\u001b[0m\u001b[0;34m\u001b[0m\u001b[0m\n\u001b[0;32m--> 132\u001b[0;31m             \u001b[0;32mraise\u001b[0m \u001b[0mValueError\u001b[0m\u001b[0;34m(\u001b[0m\u001b[0;34m\"There should be at least two values for each batch.\"\u001b[0m\u001b[0;34m)\u001b[0m\u001b[0;34m\u001b[0m\u001b[0;34m\u001b[0m\u001b[0m\n\u001b[0m\u001b[1;32m    133\u001b[0m \u001b[0;34m\u001b[0m\u001b[0m\n\u001b[1;32m    134\u001b[0m         \u001b[0;32mif\u001b[0m \u001b[0mdata\u001b[0m\u001b[0;34m.\u001b[0m\u001b[0mshape\u001b[0m\u001b[0;34m[\u001b[0m\u001b[0;36m0\u001b[0m\u001b[0;34m]\u001b[0m \u001b[0;34m!=\u001b[0m \u001b[0mbatches\u001b[0m\u001b[0;34m.\u001b[0m\u001b[0mshape\u001b[0m\u001b[0;34m[\u001b[0m\u001b[0;36m0\u001b[0m\u001b[0;34m]\u001b[0m\u001b[0;34m:\u001b[0m\u001b[0;34m\u001b[0m\u001b[0;34m\u001b[0m\u001b[0m\n",
      "\u001b[0;31mValueError\u001b[0m: There should be at least two values for each batch."
     ]
    }
   ],
   "source": [
    "# batch 제거하지 않은 것 (Transform 되어있다)\n",
    "df_concat_batchunremoved = df_concat.iloc [:, START_COLUMN:].T\n",
    "\n",
    "# batch 제거한 것 (Transform 되어있다)\n",
    "combat = reComBat()\n",
    "df_concat_batchremoved = combat.fit_transform(df_concat.iloc[ :, START_COLUMN:].T, batch_series)"
   ]
  },
  {
   "attachments": {},
   "cell_type": "markdown",
   "metadata": {},
   "source": [
    "## PCA로 뿌려보기"
   ]
  },
  {
   "cell_type": "code",
   "execution_count": 101,
   "metadata": {},
   "outputs": [
    {
     "data": {
      "text/html": [
       "<div>\n",
       "<style scoped>\n",
       "    .dataframe tbody tr th:only-of-type {\n",
       "        vertical-align: middle;\n",
       "    }\n",
       "\n",
       "    .dataframe tbody tr th {\n",
       "        vertical-align: top;\n",
       "    }\n",
       "\n",
       "    .dataframe thead th {\n",
       "        text-align: right;\n",
       "    }\n",
       "</style>\n",
       "<table border=\"1\" class=\"dataframe\">\n",
       "  <thead>\n",
       "    <tr style=\"text-align: right;\">\n",
       "      <th></th>\n",
       "      <th>ENSEMBL_ID</th>\n",
       "      <th>GENE_SYMBOL</th>\n",
       "      <th>O1</th>\n",
       "      <th>O2</th>\n",
       "      <th>C1</th>\n",
       "      <th>C2</th>\n",
       "      <th>Lin2-1</th>\n",
       "      <th>Lin2-2</th>\n",
       "      <th>Lin2-3</th>\n",
       "      <th>NP_degenerated_1</th>\n",
       "      <th>...</th>\n",
       "      <th>230207-NORMAL</th>\n",
       "      <th>230207-OLF</th>\n",
       "      <th>230207-SPINOUS</th>\n",
       "      <th>230222-LF</th>\n",
       "      <th>230222-NORMAL</th>\n",
       "      <th>230222-OLF</th>\n",
       "      <th>230222-SPINOUS</th>\n",
       "      <th>230316-DISH</th>\n",
       "      <th>230316-NORMAL</th>\n",
       "      <th>230316-OPLL</th>\n",
       "    </tr>\n",
       "  </thead>\n",
       "  <tbody>\n",
       "    <tr>\n",
       "      <th>5521</th>\n",
       "      <td>ENSG00000124813</td>\n",
       "      <td>RUNX2</td>\n",
       "      <td>105.0</td>\n",
       "      <td>59.0</td>\n",
       "      <td>134.0</td>\n",
       "      <td>160.0</td>\n",
       "      <td>4232.0</td>\n",
       "      <td>4466.0</td>\n",
       "      <td>4209.0</td>\n",
       "      <td>511.0</td>\n",
       "      <td>...</td>\n",
       "      <td>7482.0</td>\n",
       "      <td>23709.0</td>\n",
       "      <td>7859.0</td>\n",
       "      <td>2509.0</td>\n",
       "      <td>8034.0</td>\n",
       "      <td>19110.0</td>\n",
       "      <td>4260.0</td>\n",
       "      <td>20584.0</td>\n",
       "      <td>32571.0</td>\n",
       "      <td>51774.0</td>\n",
       "    </tr>\n",
       "    <tr>\n",
       "      <th>8053</th>\n",
       "      <td>ENSG00000142156</td>\n",
       "      <td>COL6A1</td>\n",
       "      <td>420.0</td>\n",
       "      <td>3579.0</td>\n",
       "      <td>15434.0</td>\n",
       "      <td>22755.0</td>\n",
       "      <td>68288.0</td>\n",
       "      <td>68778.0</td>\n",
       "      <td>74825.0</td>\n",
       "      <td>78286.0</td>\n",
       "      <td>...</td>\n",
       "      <td>14727.0</td>\n",
       "      <td>267114.0</td>\n",
       "      <td>40625.0</td>\n",
       "      <td>143539.0</td>\n",
       "      <td>26227.0</td>\n",
       "      <td>101766.0</td>\n",
       "      <td>5147.0</td>\n",
       "      <td>119766.0</td>\n",
       "      <td>204937.0</td>\n",
       "      <td>94081.0</td>\n",
       "    </tr>\n",
       "    <tr>\n",
       "      <th>10533</th>\n",
       "      <td>ENSG00000162551</td>\n",
       "      <td>ALPL</td>\n",
       "      <td>200.0</td>\n",
       "      <td>183.0</td>\n",
       "      <td>66.0</td>\n",
       "      <td>111.0</td>\n",
       "      <td>19164.0</td>\n",
       "      <td>19572.0</td>\n",
       "      <td>27282.0</td>\n",
       "      <td>130.0</td>\n",
       "      <td>...</td>\n",
       "      <td>3825.0</td>\n",
       "      <td>23728.0</td>\n",
       "      <td>4532.0</td>\n",
       "      <td>1498.0</td>\n",
       "      <td>5635.0</td>\n",
       "      <td>4433.0</td>\n",
       "      <td>914.0</td>\n",
       "      <td>20365.0</td>\n",
       "      <td>84017.0</td>\n",
       "      <td>95242.0</td>\n",
       "    </tr>\n",
       "    <tr>\n",
       "      <th>16520</th>\n",
       "      <td>ENSG00000197594</td>\n",
       "      <td>ENPP1</td>\n",
       "      <td>8.0</td>\n",
       "      <td>89.0</td>\n",
       "      <td>811.0</td>\n",
       "      <td>2164.0</td>\n",
       "      <td>3810.0</td>\n",
       "      <td>4076.0</td>\n",
       "      <td>2853.0</td>\n",
       "      <td>10410.0</td>\n",
       "      <td>...</td>\n",
       "      <td>1218.0</td>\n",
       "      <td>27163.0</td>\n",
       "      <td>3219.0</td>\n",
       "      <td>3965.0</td>\n",
       "      <td>3240.0</td>\n",
       "      <td>12011.0</td>\n",
       "      <td>888.0</td>\n",
       "      <td>4494.0</td>\n",
       "      <td>4897.0</td>\n",
       "      <td>24352.0</td>\n",
       "    </tr>\n",
       "  </tbody>\n",
       "</table>\n",
       "<p>4 rows × 47 columns</p>\n",
       "</div>"
      ],
      "text/plain": [
       "            ENSEMBL_ID GENE_SYMBOL     O1      O2       C1       C2   Lin2-1  \\\n",
       "5521   ENSG00000124813       RUNX2  105.0    59.0    134.0    160.0   4232.0   \n",
       "8053   ENSG00000142156      COL6A1  420.0  3579.0  15434.0  22755.0  68288.0   \n",
       "10533  ENSG00000162551        ALPL  200.0   183.0     66.0    111.0  19164.0   \n",
       "16520  ENSG00000197594       ENPP1    8.0    89.0    811.0   2164.0   3810.0   \n",
       "\n",
       "        Lin2-2   Lin2-3  NP_degenerated_1  ...  230207-NORMAL  230207-OLF  \\\n",
       "5521    4466.0   4209.0             511.0  ...         7482.0     23709.0   \n",
       "8053   68778.0  74825.0           78286.0  ...        14727.0    267114.0   \n",
       "10533  19572.0  27282.0             130.0  ...         3825.0     23728.0   \n",
       "16520   4076.0   2853.0           10410.0  ...         1218.0     27163.0   \n",
       "\n",
       "       230207-SPINOUS  230222-LF  230222-NORMAL  230222-OLF  230222-SPINOUS  \\\n",
       "5521           7859.0     2509.0         8034.0     19110.0          4260.0   \n",
       "8053          40625.0   143539.0        26227.0    101766.0          5147.0   \n",
       "10533          4532.0     1498.0         5635.0      4433.0           914.0   \n",
       "16520          3219.0     3965.0         3240.0     12011.0           888.0   \n",
       "\n",
       "       230316-DISH  230316-NORMAL  230316-OPLL  \n",
       "5521       20584.0        32571.0      51774.0  \n",
       "8053      119766.0       204937.0      94081.0  \n",
       "10533      20365.0        84017.0      95242.0  \n",
       "16520       4494.0         4897.0      24352.0  \n",
       "\n",
       "[4 rows x 47 columns]"
      ]
     },
     "execution_count": 101,
     "metadata": {},
     "output_type": "execute_result"
    }
   ],
   "source": [
    "df_concat [ df_concat[\"GENE_SYMBOL\"].isin ( [\"RUNX2\", \"ALPL\", \"ENPP1\", \"COL6A1\"]) ]"
   ]
  },
  {
   "cell_type": "code",
   "execution_count": 104,
   "metadata": {},
   "outputs": [
    {
     "name": "stdout",
     "output_type": "stream",
     "text": [
      "batch_list = [0, 0, 0, 0, 1, 1, 1, 2, 2, 2, 2, 3, 3, 3, 3, 4, 5, 4, 5, 4, 5, 4, 5, 4, 5, 4, 5, 4, 5, 4, 5, 4, 5, 6, 8, 4, 5, 6, 8, 4, 5, 6, 7, 4, 5]\n",
      "range_of_interst = [0, 1, 2, 4, 5, 6]\n",
      "index_of_interest = [0, 1, 2, 3, 4, 5, 6, 7, 8, 9, 10, 15, 16, 17, 18, 19, 20, 21, 22, 23, 24, 25, 26, 27, 28, 29, 30, 31, 32, 33, 35, 36, 37, 39, 40, 41, 43, 44]\n"
     ]
    },
    {
     "data": {
      "image/png": "[encoded data removed]",
      "text/plain": [
       "<Figure size 720x720 with 1 Axes>"
      ]
     },
     "metadata": {},
     "output_type": "display_data"
    }
   ],
   "source": [
    "from sklearn.decomposition import TruncatedSVD, PCA\n",
    "import matplotlib.pyplot as plt\n",
    "import seaborn as sns\n",
    "\n",
    "\n",
    "def drawPCA (df_concat_T, range_of_interest):\n",
    "    index_of_interest = [i for i in range (0, df_concat_T.shape[0]) if batch_list[i] in range_of_interest]\n",
    "\n",
    "\n",
    "    print (\"batch_list = {}\\nrange_of_interst = {}\\nindex_of_interest = {}\".format (batch_list, range_of_interest, index_of_interest))\n",
    "    \n",
    "    df_concat_interest_T = df_concat_T.iloc [ index_of_interest , : ]\n",
    "    \n",
    "\n",
    "    pca = PCA(n_components=2)\n",
    "    pca.fit (df_concat_interest_T )\n",
    "    df_concat_pca = pca.transform( df_concat_interest_T )\n",
    "\n",
    "    plt.rcParams[\"font.family\"] = 'arial'\n",
    "    plt.style.use(\"seaborn-white\")\n",
    "\n",
    "    fig, ax = plt.subplots (figsize = (10, 10))\n",
    "    # ax.axis([np.min(np_vaf[:, 0]) * 2.1,  np.max(np_vaf[:, 0]) * 2.1,  np.min(np_vaf[:, 1]) * 2.1,  np.max(np_vaf[:, 1]) * 2.1])\n",
    "\n",
    "    for i in range ( df_concat_pca.shape[0] ):\n",
    "        plt.scatter (x = df_concat_pca [i, 0], y = df_concat_pca [i, 1], color = tabl [ batch_list [ index_of_interest[i] ] ] ,  s = 150, alpha = 0.9) \n",
    "        plt.text( df_concat_pca [i, 0], df_concat_pca [i, 1],  df_concat_interest_T.index [i]  )\n",
    "\n",
    "    ax.set_xlabel(\"PC1\", fontdict = {\"fontsize\" : 14})\n",
    "    ax.set_ylabel(\"PC2\", fontdict = {\"fontsize\" : 14})\n",
    "\n",
    "    plt.show()\n",
    "\n",
    "drawPCA (df_concat_batchunremoved, [0, 1, 2, 4, 5, 6])"
   ]
  }
 ],
 "metadata": {
  "kernelspec": {
   "display_name": "cnvpytor",
   "language": "python",
   "name": "python3"
  },
  "language_info": {
   "codemirror_mode": {
    "name": "ipython",
    "version": 3
   },
   "file_extension": ".py",
   "mimetype": "text/x-python",
   "name": "python",
   "nbconvert_exporter": "python",
   "pygments_lexer": "ipython3",
   "version": "3.8.1"
  },
  "orig_nbformat": 4
 },
 "nbformat": 4,
 "nbformat_minor": 2
}
